{
  "nbformat": 4,
  "nbformat_minor": 0,
  "metadata": {
    "colab": {
      "name": "CM2 T2Q2",
      "provenance": [],
      "collapsed_sections": [],
      "authorship_tag": "ABX9TyMfezSMuHNRyL5nk5F9+kMk",
      "include_colab_link": true
    },
    "kernelspec": {
      "name": "python3",
      "display_name": "Python 3"
    }
  },
  "cells": [
    {
      "cell_type": "markdown",
      "metadata": {
        "id": "view-in-github",
        "colab_type": "text"
      },
      "source": [
        "<a href=\"https://colab.research.google.com/github/yowsitian/computingMath2021/blob/main/CM2_T2Q2.ipynb\" target=\"_parent\"><img src=\"https://colab.research.google.com/assets/colab-badge.svg\" alt=\"Open In Colab\"/></a>"
      ]
    },
    {
      "cell_type": "code",
      "metadata": {
        "id": "G59CoOZi30Sd"
      },
      "source": [
        "import matplotlib.pyplot as plt\n",
        "import numpy as np "
      ],
      "execution_count": 7,
      "outputs": []
    },
    {
      "cell_type": "code",
      "metadata": {
        "colab": {
          "base_uri": "https://localhost:8080/",
          "height": 330
        },
        "id": "m_zYTVE2MwnX",
        "outputId": "d9efe580-a8c4-4e5d-a7b1-6c4b803205eb"
      },
      "source": [
        "# naming the x axis \n",
        "plt.xlabel('x') \n",
        "# naming the y axis \n",
        "plt.ylabel('y') \n",
        "# giving a title to graph \n",
        "plt.title('y=(2x)/(x-3)') \n",
        "\n",
        "# setting the x - coordinates \n",
        "x = np.arange(-20, 20, 1) \n",
        "# setting the corresponding y - coordinates \n",
        "y = (2*x)/(x-3)\n",
        "  \n",
        "# potting the points \n",
        "plt.plot(x, y) \n",
        "plt.grid('True')\n",
        "  \n",
        "# function to show the plot \n",
        "plt.show() "
      ],
      "execution_count": 8,
      "outputs": [
        {
          "output_type": "stream",
          "text": [
            "/usr/local/lib/python3.7/dist-packages/ipykernel_launcher.py:11: RuntimeWarning: divide by zero encountered in true_divide\n",
            "  # This is added back by InteractiveShellApp.init_path()\n"
          ],
          "name": "stderr"
        },
        {
          "output_type": "display_data",
          "data": {
            "image/png": "[encoded data removed]",
            "text/plain": [
              "<Figure size 432x288 with 1 Axes>"
            ]
          },
          "metadata": {
            "tags": [],
            "needs_background": "light"
          }
        }
      ]
    }
  ]
}