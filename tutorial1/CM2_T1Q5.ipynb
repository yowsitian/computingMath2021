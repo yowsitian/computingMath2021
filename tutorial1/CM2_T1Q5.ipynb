{
  "nbformat": 4,
  "nbformat_minor": 0,
  "metadata": {
    "colab": {
      "name": "CM2 T1Q5",
      "provenance": [],
      "authorship_tag": "ABX9TyMsiyE/8KBD+c/TZ21Gezgf",
      "include_colab_link": true
    },
    "kernelspec": {
      "name": "python3",
      "display_name": "Python 3"
    }
  },
  "cells": [
    {
      "cell_type": "markdown",
      "metadata": {
        "id": "view-in-github",
        "colab_type": "text"
      },
      "source": [
        "<a href=\"https://colab.research.google.com/github/yowsitian/computingMath2021/blob/main/CM2_T1Q5.ipynb\" target=\"_parent\"><img src=\"https://colab.research.google.com/assets/colab-badge.svg\" alt=\"Open In Colab\"/></a>"
      ]
    },
    {
      "cell_type": "code",
      "metadata": {
        "id": "G59CoOZi30Sd"
      },
      "source": [
        "import matplotlib.pyplot as plt\n",
        "import numpy as np "
      ],
      "execution_count": 11,
      "outputs": []
    },
    {
      "cell_type": "code",
      "metadata": {
        "colab": {
          "base_uri": "https://localhost:8080/",
          "height": 295
        },
        "id": "m_zYTVE2MwnX",
        "outputId": "629c23da-22e9-4600-973c-e12ca9248a77"
      },
      "source": [
        "# naming the x axis \n",
        "plt.xlabel('x') \n",
        "# naming the y axis \n",
        "plt.ylabel('y') \n",
        "# giving a title to graph \n",
        "plt.title('y=200-4x') \n",
        "\n",
        "# setting the x - coordinates \n",
        "x = np.arange(0, 100, 1) \n",
        "# setting the corresponding y - coordinates \n",
        "y = 200-4*x\n",
        "plt.ylim(0, 250)\n",
        "plt.xlim(0,60)\n",
        "  \n",
        "# potting the points \n",
        "plt.plot(x, y) \n",
        "plt.grid('True')\n",
        "  \n",
        "# function to show the plot \n",
        "plt.show() "
      ],
      "execution_count": 12,
      "outputs": [
        {
          "output_type": "display_data",
          "data": {
            "image/png": "[encoded data removed]",
            "text/plain": [
              "<Figure size 432x288 with 1 Axes>"
            ]
          },
          "metadata": {
            "tags": [],
            "needs_background": "light"
          }
        }
      ]
    }
  ]
}