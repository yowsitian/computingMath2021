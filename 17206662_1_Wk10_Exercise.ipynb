{
  "nbformat": 4,
  "nbformat_minor": 0,
  "metadata": {
    "colab": {
      "name": "17206662/1 Wk10_Exercise",
      "provenance": [],
      "collapsed_sections": [],
      "authorship_tag": "ABX9TyNmrBXAvRbW6nJFonRG1Vjr",
      "include_colab_link": true
    },
    "kernelspec": {
      "name": "python3",
      "display_name": "Python 3"
    },
    "language_info": {
      "name": "python"
    }
  },
  "cells": [
    {
      "cell_type": "markdown",
      "metadata": {
        "id": "view-in-github",
        "colab_type": "text"
      },
      "source": [
        "<a href=\"https://colab.research.google.com/github/yowsitian/computingMath2021/blob/main/17206662_1_Wk10_Exercise.ipynb\" target=\"_parent\"><img src=\"https://colab.research.google.com/assets/colab-badge.svg\" alt=\"Open In Colab\"/></a>"
      ]
    },
    {
      "cell_type": "markdown",
      "metadata": {
        "id": "_2QdaFavPf0k"
      },
      "source": [
        "Name: Yow Si Tian\n",
        "\n",
        "Matrix No: 17206662/1"
      ]
    },
    {
      "cell_type": "code",
      "metadata": {
        "id": "_abdriWJPYMb"
      },
      "source": [
        "import numpy as np\n",
        "import matplotlib.pyplot as plt"
      ],
      "execution_count": 96,
      "outputs": []
    },
    {
      "cell_type": "code",
      "metadata": {
        "id": "QRnBvFgyQjQV"
      },
      "source": [
        "a = np.matrix('1. 2. 3. 4.; 5. 5. 6. 7.; 1. 4. 2. 3.; 5. 3. 2. 1.; 8. 1. 2. 2.')"
      ],
      "execution_count": 97,
      "outputs": []
    },
    {
      "cell_type": "code",
      "metadata": {
        "id": "ybJQChpdTYvh"
      },
      "source": [
        "# find mean \n",
        "mean = []\n",
        "for i in range(a.shape[1]):\n",
        "  mean.append(np.sum(a[:,i])/len(a[:]))\n",
        "\n",
        "# find standard deviation\n",
        "std = []\n",
        "for i in range(a.shape[1]):\n",
        "  tempMean = np.zeros((a.shape[0],1))\n",
        "  tempMean.fill(mean[i])\n",
        "  std.append(np.sqrt(np.sum(np.square(np.subtract(a[:,i],tempMean)))/(a.shape[0]-1)))"
      ],
      "execution_count": 98,
      "outputs": []
    },
    {
      "cell_type": "code",
      "metadata": {
        "id": "3uQJKudURDvT"
      },
      "source": [
        "# Step 1 Standardize Datasets\n",
        "for i in range (a.shape[1]):\n",
        "    tempMean = np.zeros((a.shape[0],1))\n",
        "    tempMean.fill(mean[i])\n",
        "    tempStd = np.zeros((a.shape[0],1))\n",
        "    tempStd.fill(std[i])\n",
        "    a[:,i] = (a[:,i] - tempMean)/tempStd"
      ],
      "execution_count": 99,
      "outputs": []
    },
    {
      "cell_type": "code",
      "metadata": {
        "id": "1sniVd7znxWb"
      },
      "source": [
        "# Calculate covariance matrix\n",
        "a = np.squeeze(np.asarray(a))\n",
        "def getValue(x,y):\n",
        "  sum = 0\n",
        "  for i in range (a.shape[0]):\n",
        "    sum += a[i][x]*a[i][y]\n",
        "  sum /= a.shape[0]\n",
        "  return sum\n",
        "  \n",
        "c = np.zeros((a.shape[1],a.shape[1]))\n",
        "for i in range (a.shape[1]):\n",
        "  for j in range (a.shape[1]):\n",
        "    c[i][j] = getValue(i,j)"
      ],
      "execution_count": 100,
      "outputs": []
    },
    {
      "cell_type": "code",
      "metadata": {
        "id": "CnCZbbE9mPJR"
      },
      "source": [
        "# Calculate Eigenvalues and Eigenvectors and sorting\n",
        "lambda_ = np.zeros((a.shape[1],a.shape[1]))\n",
        "eigvals, eigvecs = np.linalg.eig(c)\n",
        "idx = eigvals.argsort()[::-1]   \n",
        "eigvals = eigvals[idx]\n",
        "eigvecs = eigvecs[:,idx]"
      ],
      "execution_count": 101,
      "outputs": []
    },
    {
      "cell_type": "code",
      "metadata": {
        "id": "aTn7pahlOQ-T"
      },
      "source": [
        "# Transform\n",
        "Back_computed_matrix_transform = []\n",
        "original = []\n",
        "for i in range(a.shape[1]):\n",
        "  Matrix_transform = np.dot(a,eigvecs[:,:i+1])\n",
        "  backComputed = np.dot(Matrix_transform,np.linalg.pinv(eigvecs[:,:i+1]))\n",
        "  Back_computed_matrix_transform.append(backComputed)\n",
        "  original.append(backComputed*std + mean)"
      ],
      "execution_count": 102,
      "outputs": []
    },
    {
      "cell_type": "code",
      "metadata": {
        "colab": {
          "base_uri": "https://localhost:8080/",
          "height": 295
        },
        "id": "Hsqedb5Ol1Zy",
        "outputId": "ad55fbb1-c8f5-440a-920f-988d104c0ab5"
      },
      "source": [
        "a = np.matrix('1. 2. 3. 4.; 5. 5. 6. 7.; 1. 4. 2. 3.; 5. 3. 2. 1.; 8. 1. 2. 2.')\n",
        "error = []\n",
        "for i in range (a.shape[1]):\n",
        "  error.append((1/(2*a.shape[1]))*np.sum(np.square(np.subtract(a, original[i]))))\n",
        "\n",
        "k = [1,2,3,4]\n",
        "plt.plot(k,error)\n",
        "plt.title('Error versus k-principal component' )\n",
        "plt.xlabel('k-principal component')\n",
        "plt.ylabel('Error')\n",
        "plt.grid(True)\n",
        "plt.show()"
      ],
      "execution_count": 105,
      "outputs": [
        {
          "output_type": "display_data",
          "data": {
            "image/png": "[encoded data removed]",
            "text/plain": [
              "<Figure size 432x288 with 1 Axes>"
            ]
          },
          "metadata": {
            "tags": [],
            "needs_background": "light"
          }
        }
      ]
    },
    {
      "cell_type": "markdown",
      "metadata": {
        "id": "wiw-Xx_SrVa4"
      },
      "source": [
        "Q5: Why is the error reducing as k increases?\n",
        "\n",
        "Higher k would lead to less smoothening of data as we preserve more characteristics in data. With this, the regularization is less and more accurate, i.e. less errors."
      ]
    }
  ]
}