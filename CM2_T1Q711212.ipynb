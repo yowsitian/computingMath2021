{
  "nbformat": 4,
  "nbformat_minor": 0,
  "metadata": {
    "colab": {
      "name": "CM2 T1Q711212",
      "provenance": [],
      "authorship_tag": "ABX9TyML/e4LqN7CAINIZlBG/RGl",
      "include_colab_link": true
    },
    "kernelspec": {
      "name": "python3",
      "display_name": "Python 3"
    }
  },
  "cells": [
    {
      "cell_type": "markdown",
      "metadata": {
        "id": "view-in-github",
        "colab_type": "text"
      },
      "source": [
        "<a href=\"https://colab.research.google.com/github/yowsitian/computingMath2021/blob/main/CM2_T1Q711212.ipynb\" target=\"_parent\"><img src=\"https://colab.research.google.com/assets/colab-badge.svg\" alt=\"Open In Colab\"/></a>"
      ]
    },
    {
      "cell_type": "code",
      "metadata": {
        "id": "G59CoOZi30Sd"
      },
      "source": [
        "import matplotlib.pyplot as plt\n",
        "import numpy as np "
      ],
      "execution_count": null,
      "outputs": []
    },
    {
      "cell_type": "code",
      "metadata": {
        "colab": {
          "base_uri": "https://localhost:8080/",
          "height": 295
        },
        "id": "m_zYTVE2MwnX",
        "outputId": "fcd3e177-af4d-47fb-d932-576e1a84148d"
      },
      "source": [
        "# naming the x axis \n",
        "plt.xlabel('x') \n",
        "# naming the y axis \n",
        "plt.ylabel('y') \n",
        "# giving a title to graph \n",
        "plt.title('y=|x^2-1|') \n",
        "\n",
        "# setting the x - coordinates \n",
        "x = np.arange(0, 10, 2) \n",
        "# setting the corresponding y - coordinates \n",
        "y = np.abs(x**2-1)\n",
        "  \n",
        "# potting the points \n",
        "plt.plot(x, y) \n",
        "plt.grid('True')\n",
        "  \n",
        "# function to show the plot \n",
        "plt.show() "
      ],
      "execution_count": null,
      "outputs": [
        {
          "output_type": "display_data",
          "data": {
            "image/png": "[encoded data removed]",
            "text/plain": [
              "<Figure size 432x288 with 1 Axes>"
            ]
          },
          "metadata": {
            "tags": [],
            "needs_background": "light"
          }
        }
      ]
    }
  ]
}