{
  "nbformat": 4,
  "nbformat_minor": 0,
  "metadata": {
    "colab": {
      "name": "Web Scraping - Beautiful Soap",
      "provenance": [],
      "collapsed_sections": [],
      "authorship_tag": "ABX9TyO1JQ4Z+tmgyhGZAye1Eold",
      "include_colab_link": true
    },
    "kernelspec": {
      "name": "python3",
      "display_name": "Python 3"
    },
    "language_info": {
      "name": "python"
    }
  },
  "cells": [
    {
      "cell_type": "markdown",
      "metadata": {
        "id": "view-in-github",
        "colab_type": "text"
      },
      "source": [
        "<a href=\"https://colab.research.google.com/github/yowsitian/computingMath2021/blob/main/Web_Scraping_Beautiful_Soap.ipynb\" target=\"_parent\"><img src=\"https://colab.research.google.com/assets/colab-badge.svg\" alt=\"Open In Colab\"/></a>"
      ]
    },
    {
      "cell_type": "code",
      "metadata": {
        "id": "fuhptvkiJDou"
      },
      "source": [
        "#!pip install selenium"
      ],
      "execution_count": 1,
      "outputs": []
    },
    {
      "cell_type": "code",
      "metadata": {
        "id": "tfg0irkEp773",
        "colab": {
          "base_uri": "https://localhost:8080/",
          "height": 375
        },
        "outputId": "4be23ad3-0126-4cf1-9190-b70a0f1b682b"
      },
      "source": [
        "import requests\n",
        "from requests import get\n",
        "from bs4 import BeautifulSoup\n",
        "import pandas as pd\n",
        "import numpy as np\n",
        "# from selenium import webdriver\n",
        "import time\n",
        "import json\n",
        "\n",
        "companyList = [\n",
        "    {'id': 'citylink', 'link':'City-link%20Express', 'listLinks':[],'contents':''},\n",
        "    {'id': 'poslaju','link':'Pos%20Laju', 'listLinks':[],'contents':''},\n",
        "    {'id': 'gdex', 'link':'GDEX', 'listLinks':[],'contents':''},\n",
        "    {'id': 'jnt', 'link':'J%26T%20express', 'listLinks':[],'contents':''},\n",
        "    {'id': 'dhl', 'link':'DHL', 'listLinks':[],'contents':''},\n",
        "]\n",
        "\n",
        "urlList = [\n",
        "    {'id': 'theStar', 'link': 'https://www.thestar.com.my/search/?q='},\n",
        "    {'id': 'borneoPost','link': 'https://www.theborneopost.com/search_gcse/?q='},\n",
        "    {'id': 'newStraitsTimes', 'link': 'https://www.nst.com.my/search?keywords='},\n",
        "]"
      ],
      "execution_count": 2,
      "outputs": [
        {
          "output_type": "error",
          "ename": "ModuleNotFoundError",
          "evalue": "ignored",
          "traceback": [
            "\u001b[0;31m---------------------------------------------------------------------------\u001b[0m",
            "\u001b[0;31mModuleNotFoundError\u001b[0m                       Traceback (most recent call last)",
            "\u001b[0;32m<ipython-input-2-55e2399c47fd>\u001b[0m in \u001b[0;36m<module>\u001b[0;34m()\u001b[0m\n\u001b[1;32m      4\u001b[0m \u001b[0;32mimport\u001b[0m \u001b[0mpandas\u001b[0m \u001b[0;32mas\u001b[0m \u001b[0mpd\u001b[0m\u001b[0;34m\u001b[0m\u001b[0;34m\u001b[0m\u001b[0m\n\u001b[1;32m      5\u001b[0m \u001b[0;32mimport\u001b[0m \u001b[0mnumpy\u001b[0m \u001b[0;32mas\u001b[0m \u001b[0mnp\u001b[0m\u001b[0;34m\u001b[0m\u001b[0;34m\u001b[0m\u001b[0m\n\u001b[0;32m----> 6\u001b[0;31m \u001b[0;32mfrom\u001b[0m \u001b[0mselenium\u001b[0m \u001b[0;32mimport\u001b[0m \u001b[0mwebdriver\u001b[0m\u001b[0;34m\u001b[0m\u001b[0;34m\u001b[0m\u001b[0m\n\u001b[0m\u001b[1;32m      7\u001b[0m \u001b[0;32mimport\u001b[0m \u001b[0mtime\u001b[0m\u001b[0;34m\u001b[0m\u001b[0;34m\u001b[0m\u001b[0m\n\u001b[1;32m      8\u001b[0m \u001b[0;32mimport\u001b[0m \u001b[0mjson\u001b[0m\u001b[0;34m\u001b[0m\u001b[0;34m\u001b[0m\u001b[0m\n",
            "\u001b[0;31mModuleNotFoundError\u001b[0m: No module named 'selenium'",
            "",
            "\u001b[0;31m---------------------------------------------------------------------------\u001b[0;32m\nNOTE: If your import is failing due to a missing package, you can\nmanually install dependencies using either !pip or !apt.\n\nTo view examples of installing some common dependencies, click the\n\"Open Examples\" button below.\n\u001b[0;31m---------------------------------------------------------------------------\u001b[0m\n"
          ]
        }
      ]
    },
    {
      "cell_type": "code",
      "metadata": {
        "id": "I1hPaFZoHTjg"
      },
      "source": [
        "def checkValidity(url):\n",
        "    r = requests.get(url)\n",
        "    if r.status_code == 200:\n",
        "        return r\n",
        "    return False"
      ],
      "execution_count": null,
      "outputs": []
    },
    {
      "cell_type": "code",
      "metadata": {
        "id": "GnSRctYoqBkj"
      },
      "source": [
        "def retrieveArticleLinks(inputList):\n",
        "    for i in inputList:\n",
        "        index = 0\n",
        "        while len(i['listLinks'])  < 3 and index != len(urlList):\n",
        "            url = urlList[index]['link'] + i['link']\n",
        "            r = checkValidity(url)\n",
        "            if r:\n",
        "                contentNews = []\n",
        "                soup1 = BeautifulSoup(r.content, \"html.parser\")\n",
        "                # News identification\n",
        "                if urlList[index]['id'] == 'theStar':\n",
        "                    contentNews = soup1.find_all('h2', class_='f18')\n",
        "                elif urlList[index]['id'] == 'borneoPost':\n",
        "                    contentNews = soup1.find_all('div', class_='gs-title')\n",
        "                else:\n",
        "                    contentNews = soup1.find_all('div', class_='article-teaser')\n",
        "                for n in np.arange(0,len(contentNews)):\n",
        "                    if n == 3:\n",
        "                        break\n",
        "                    i['listLinks'].append(contentNews[n].find('a')['href'])\n",
        "                index += 1\n",
        "    return inputList"
      ],
      "execution_count": null,
      "outputs": []
    },
    {
      "cell_type": "code",
      "metadata": {
        "id": "lkKnpc16fy6Q"
      },
      "source": [
        "print(retrieveArticleLinks(companyList))"
      ],
      "execution_count": null,
      "outputs": []
    },
    {
      "cell_type": "code",
      "metadata": {
        "id": "4HxGxG2JbCZN"
      },
      "source": [
        "def scrapeSingleWeb(url):\n",
        "    r = checkValidity(url)\n",
        "    result = ''\n",
        "    if r:\n",
        "        article = BeautifulSoup(r.content, \"html.parser\")\n",
        "        arr = []\n",
        "        if \"www.thestar.com\" in url:\n",
        "          body = article.find('div',attrs={\"id\": \"story-body\"})   \n",
        "          arr = body.findAll('p')\n",
        "        for j in arr:\n",
        "            result += str(j.get_text())  \n",
        "    return result"
      ],
      "execution_count": null,
      "outputs": []
    },
    {
      "cell_type": "code",
      "metadata": {
        "id": "rVpcqboYdo9I"
      },
      "source": [
        "companyList = retrieveArticleLinks(companyList)\n",
        "for i in companyList:\n",
        "    index = 0\n",
        "    #pass article link by link\n",
        "    while index < 3:\n",
        "        i['contents'] += str(scrapeSingleWeb(i['listLinks'][index]))\n",
        "        index += 1\n",
        "print(companyList)"
      ],
      "execution_count": null,
      "outputs": []
    },
    {
      "cell_type": "code",
      "metadata": {
        "id": "QGnoUz6hVa7N"
      },
      "source": [
        "df = pd.DataFrame.from_dict(companyList)\n",
        "from google.colab import  drive\n",
        "drive.mount('/drive')\n",
        "df.to_csv('/drive/My Drive/Year 2/name_csv_file.csv')"
      ],
      "execution_count": null,
      "outputs": []
    }
  ]
}